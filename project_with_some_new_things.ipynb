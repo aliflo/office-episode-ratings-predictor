{
 "cells": [
  {
   "cell_type": "markdown",
   "metadata": {
    "id": "rOyOkJJA7Foy"
   },
   "source": [
    "# Predicting The Office episode ratings to advise NBC Universal on a reunion episode\n",
    "#### Machine Learning in Python - Group Project 1\n",
    "*Data Scientist Contractors: Luke Appleby, Josep Reyero, Tom Birkbeck, Adam Dunajski*\n",
    "\n",
    "In this report, we explore what makes a great episode of The Office, NBC Universal's widely-regarded situational comedy about the office life of a paper manufacturer. \n",
    "\n",
    "This is achieved through a machine learning model which predicts the rating of the episode based on a number of episode characteristics - such as whether the episode features a cold open, and how many spoken lines are in it. \n",
    "\n",
    "We use this model to give a reccomendation on episode features which will **maximise IMBD rating** for the episode.\n",
    "\n",
    "The report is formatted in the style of an interactive workbook in which the client (NBC Universal) can step through cells of code interspersed with explanation of model choices and mathematical background.\n",
    "\n",
    "### Table of Contents\n",
    "\n",
    "0.  Predicting The Office episode ratings to advise NBC Universal on a reunion episode\n",
    "1. Introduction    \n",
    "    1.1 Model and conclusions overview/precis    \n",
    "    1.2 Data sources used    \n",
    "    1.3 General code setup       \n",
    "2. Exploratory Data Analysis and Feature Engineering    \n",
    "    2.1 **<span style=\"color:red\">SECTION</span>**    \n",
    "    2.2 **<span style=\"color:red\">SECTION</span>**     \n",
    "    2.3 **<span style=\"color:red\">SECTION</span>**    \n",
    "    2.4 **<span style=\"color:red\">SECTION</span>**    \n",
    "3. Model fitting and tuning    \n",
    "    3.1 **<span style=\"color:red\">SECTION</span>**    \n",
    "    3.2 **<span style=\"color:red\">SECTION</span>**    \n",
    "    3.3 **<span style=\"color:red\">SECTION</span>**    \n",
    "4. Discussion and Conclusions    \n",
    "    4.1 **<span style=\"color:red\">SECTION</span>**    \n",
    "    4.2 **<span style=\"color:red\">SECTION</span>**    \n",
    "    4.3 **<span style=\"color:red\">SECTION</span>**    \n",
    "5. References"
   ]
  },
  {
   "cell_type": "markdown",
   "metadata": {},
   "source": [
    "## 1 Introduction\n",
    "In this section, we give an abstract of our modelling approach and truncated results, intended for senior managers who are short on time to view. \n",
    "\n",
    "We then discuss our data sources and set-up of the code environment for the model.\n",
    "\n",
    "## 1.1 Model and conclusions overview/precis\n",
    "\n",
    "After comparing a number of models, we found a **<span style=\"color:red\">[WHICH MODEL DID WE FIND BEST]</span>** model was the best to fit to the data. It had a prediction accuracy of **<span style=\"color:red\">[WHAT WAS ITS ACCURACY]</span>**, which is very high.\n",
    "\n",
    "The model indicates that strong postive correlants of episodic IMBD rating are **<span style=\"color:red\">[WHAT WERE THE CORRELANTS]</span>**, therefore, we advise NBC Universal to apply the following list of reccomendations when writing the reunion episode.\n",
    "\n",
    "\n",
    "<span style=\"color:red\">[WHAT WERE THE CORRELANTS]\n",
    "* COLD OPEN\n",
    "* OTHER THINGS\n",
    "    </span>"
   ]
  },
  {
   "cell_type": "markdown",
   "metadata": {},
   "source": [
    "## 1.2 Data sources\n",
    "Our primary data source was the office episode ratings dataset the_office.csv (Evkaya, 2023)."
   ]
  },
  {
   "cell_type": "markdown",
   "metadata": {
    "id": "PqPpPRE37Fo0"
   },
   "source": [
    "## 1.3 General Setup\n"
   ]
  },
  {
   "cell_type": "code",
   "execution_count": 1,
   "metadata": {
    "id": "jb4qh-pi7Fo1"
   },
   "outputs": [],
   "source": [
    "# Add any additional libraries or submodules below\n",
    "\n",
    "# Data libraries\n",
    "import numpy as np\n",
    "import pandas as pd\n",
    "\n",
    "# Plotting libraries\n",
    "import matplotlib.pyplot as plt\n",
    "import seaborn as sns\n",
    "\n",
    "# Plotting defaults\n",
    "plt.rcParams['figure.figsize'] = (8,5)\n",
    "plt.rcParams['figure.dpi'] = 80\n",
    "\n",
    "# sklearn modules that are necessary\n",
    "import sklearn"
   ]
  },
  {
   "cell_type": "code",
   "execution_count": 2,
   "metadata": {
    "id": "hjs5785u7Fo1"
   },
   "outputs": [],
   "source": [
    "# Load data\n",
    "data = pd.read_csv(\"the_office.csv\")\n",
    "data_explore = data.copy()"
   ]
  },
  {
   "cell_type": "code",
   "execution_count": 3,
   "metadata": {},
   "outputs": [],
   "source": [
    "with open('MLP_cold_opens.txt', 'r') as file:\n",
    "    new_data = file.read().replace('\\n', '')\n",
    "\n",
    "x = new_data.split(\")\")\n",
    "hots = []\n",
    "for i in range(len(x)):\n",
    "    if x[i][0:4] == 'None':\n",
    "        hots.append(x[i][7:-1])\n",
    "    elif x[i][0:8] == 'Season 1' and x[i][8:12] == 'None':\n",
    "        hots.append(x[i][14:])\n",
    "    elif x[i][0:6] == 'Season' and x[i][8:12] == 'None':\n",
    "        hots.append(x[i][15:-1])\n",
    "\n",
    "hots_df = pd.DataFrame (hots, columns = ['episode_name'])\n",
    "hots_df['cold_open'] = np.zeros(12).astype(int)\n",
    "hots_df = hots_df.replace(to_replace = 'Weight Loss', value = 'Weight Loss (Parts 1&2)')\n",
    "data_ = pd.merge(data, hots_df, on='episode_name', how='left')\n",
    "data_['cold_open'] = data_['cold_open'].fillna(1)\n",
    "\n",
    "data_.loc[data_['cold_open'] == 1]\n",
    "\n",
    "data = data_"
   ]
  },
  {
   "cell_type": "code",
   "execution_count": 4,
   "metadata": {},
   "outputs": [],
   "source": [
    "with open('MLP_jim_pranks.txt', 'r') as file:\n",
    "    pranks_str = file.read().replace('\\n', '')\n",
    "    \n",
    "x0 = pranks_str.split('(')\n",
    "j = 0\n",
    "for i in x0:\n",
    "    x0[j] = i.split(')')\n",
    "    j+=1\n",
    "j = 0\n",
    "for i in x0:\n",
    "    x0[j] = i[0]\n",
    "    j +=1\n",
    "for i in range(len(x0)):\n",
    "    x0[i] = x0[i][1:-1]\n",
    "\n",
    "\n",
    "names = data['episode_name']\n",
    "\n",
    "names = names.replace(to_replace = 'E-Mail Surveilance', value = 'Email Surveillance')\n",
    "names = names.replace(to_replace = 'A Benihana Christmas ', value = 'A Benihana Christmas')\n",
    "names = names.replace(to_replace = 'The Job ', value = 'The Job', regex = True)\n",
    "names = names.replace(to_replace = 'Launch Party ', value = 'Launch Party', regex = True)\n",
    "names = names.replace(to_replace = 'Goodbye, Toby ', value = 'Goodbye Toby', regex = True)\n",
    "names = names.replace(to_replace = 'Niagara ', value = 'Niagara', regex = True)\n",
    "names = names.replace(to_replace = 'The Cover', value = 'The Cover-Up', regex = True)\n",
    "names = names.replace(to_replace = 'Classy Christmas ', value = 'Classy Christmas', regex = True)\n",
    "names = names.replace(to_replace = 'Dwight K. Schrute, (Acting) Manager', value = 'Dwight K. Schrute,')\n",
    "names = np.array(names)\n",
    "\n",
    "j = 0\n",
    "for i in names:\n",
    "    if i[-11:] == '(Parts 1&2)':\n",
    "        names[j] = i[:-11]\n",
    "    elif i[-8:] == '(Part 1)' or i[-8:] == '(Part 2)':\n",
    "        names[j] = i[:-8]\n",
    "    j +=1\n",
    "        \n",
    "pranks = []\n",
    "for i in names:\n",
    "    #print(x0.count(i))\n",
    "    pranks.append(x0.count(i))\n",
    "#     a += x0.count(i)\n",
    "\n",
    "data['jim_pranks'] = pranks\n",
    "\n",
    "data\n",
    "data_explore = data.copy()"
   ]
  },
  {
   "cell_type": "code",
   "execution_count": 5,
   "metadata": {},
   "outputs": [
    {
     "ename": "FileNotFoundError",
     "evalue": "[Errno 2] No such file or directory: 'jim_and_pam_key_episodes.txt'",
     "output_type": "error",
     "traceback": [
      "\u001b[1;31m---------------------------------------------------------------------------\u001b[0m",
      "\u001b[1;31mFileNotFoundError\u001b[0m                         Traceback (most recent call last)",
      "\u001b[1;32m<ipython-input-5-694363e3a2e4>\u001b[0m in \u001b[0;36m<module>\u001b[1;34m\u001b[0m\n\u001b[1;32m----> 1\u001b[1;33m \u001b[1;32mwith\u001b[0m \u001b[0mopen\u001b[0m\u001b[1;33m(\u001b[0m\u001b[1;34m'jim_and_pam_key_episodes.txt'\u001b[0m\u001b[1;33m,\u001b[0m \u001b[1;34m'r'\u001b[0m\u001b[1;33m)\u001b[0m \u001b[1;32mas\u001b[0m \u001b[0mfile\u001b[0m\u001b[1;33m:\u001b[0m\u001b[1;33m\u001b[0m\u001b[1;33m\u001b[0m\u001b[0m\n\u001b[0m\u001b[0;32m      2\u001b[0m     \u001b[0mtext\u001b[0m \u001b[1;33m=\u001b[0m \u001b[0mfile\u001b[0m\u001b[1;33m.\u001b[0m\u001b[0mread\u001b[0m\u001b[1;33m(\u001b[0m\u001b[1;33m)\u001b[0m\u001b[1;33m\u001b[0m\u001b[1;33m\u001b[0m\u001b[0m\n\u001b[0;32m      3\u001b[0m \u001b[1;33m\u001b[0m\u001b[0m\n\u001b[0;32m      4\u001b[0m \u001b[0mstart\u001b[0m \u001b[1;33m=\u001b[0m \u001b[1;36m0\u001b[0m\u001b[1;33m\u001b[0m\u001b[1;33m\u001b[0m\u001b[0m\n\u001b[0;32m      5\u001b[0m \u001b[0mpam_jim_episodes\u001b[0m \u001b[1;33m=\u001b[0m \u001b[1;33m[\u001b[0m\u001b[1;33m]\u001b[0m\u001b[1;33m\u001b[0m\u001b[1;33m\u001b[0m\u001b[0m\n",
      "\u001b[1;31mFileNotFoundError\u001b[0m: [Errno 2] No such file or directory: 'jim_and_pam_key_episodes.txt'"
     ]
    }
   ],
   "source": [
    "with open('jim_and_pam_key_episodes.txt', 'r') as file:\n",
    "    text = file.read()\n",
    "    \n",
    "start = 0\n",
    "pam_jim_episodes = []\n",
    "\n",
    "while True:\n",
    "    start = text.find('(', start) + 1\n",
    "    if start == 0:\n",
    "        break\n",
    "        \n",
    "    end = text.find(')', start)\n",
    "    between_brackets = text[start:end]\n",
    "    \n",
    "    if any(char.isdigit() for char in between_brackets):\n",
    "        season = int(between_brackets[1])\n",
    "        after_E_string = between_brackets[between_brackets.find('E')+1:]\n",
    "        \n",
    "        if '/' in after_E_string:\n",
    "            pam_jim_episodes.append([season, int(after_E_string[:after_E_string.find('/')])])\n",
    "            pam_jim_episodes.append([season, int(after_E_string[after_E_string.find('/')+1:])])\n",
    "        \n",
    "        else:\n",
    "            pam_jim_episodes.append([season, int(after_E_string)])\n",
    "        \n",
    "    start = end + 1\n",
    "    \n",
    "    \n",
    "def is_tim_and_pam_key_episode(row, key_episodes):\n",
    "    season, episode = row['season'], row['episode']\n",
    "    return int([season, episode] in key_episodes)\n",
    "\n",
    "data_explore['pam_and_jim_key_episode'] = data_explore.apply(\n",
    "    lambda row: is_key_episode(row, pam_jim_episodes), axis=1\n",
    ")"
   ]
  },
  {
   "cell_type": "markdown",
   "metadata": {
    "id": "K314dGEL7Fo1"
   },
   "source": [
    "## 1. Introduction\n",
    "\n",
    "*This section should include a brief introduction to the task and the data (assume this is a report you are delivering to a client).* \n",
    "\n",
    "- If you use any additional data sources, you should introduce them here and discuss why they were included.\n",
    "\n",
    "- Briefly outline the approaches being used and the conclusions that you are able to draw."
   ]
  },
  {
   "cell_type": "markdown",
   "metadata": {
    "id": "3P6Vdzbo7Fo2"
   },
   "source": [
    "## 2. Exploratory Data Analysis and Feature Engineering"
   ]
  },
  {
   "cell_type": "markdown",
   "metadata": {
    "id": "Arg9_dYE7Fo2"
   },
   "source": [
    "*Include a detailed discussion of the data with a particular emphasis on the features of the data that are relevant for the subsequent modeling.* \n",
    "\n",
    "- Including visualizations of the data is strongly encouraged - all code and plots must also be described in the write up. \n",
    "- Think carefully about whether each plot needs to be included in your final draft - your report should include figures but they should be as focused and impactful as possible.\n",
    "\n",
    "*Additionally, this section should also implement and describe any preprocessing / feature engineering of the data.*\n",
    "\n",
    "- Specifically, this should be any code that you use to generate new columns in the data frame `d`. All of this processing is explicitly meant to occur before we split the data in to training and testing subsets. \n",
    "- Processing that will be performed as part of an sklearn pipeline can be mentioned here but should be implemented in the following section.*\n",
    "\n",
    "**All code and figures should be accompanied by text that provides an overview / context to what is being done or presented.**"
   ]
  },
  {
   "cell_type": "code",
   "execution_count": null,
   "metadata": {},
   "outputs": [],
   "source": [
    "print (\"Columns in the df are:\")\n",
    "print (data_explore.columns.tolist(), \"\\n\")\n",
    "\n",
    "dup_num = pd.DataFrame(data_explore).duplicated().sum()\n",
    "print(\"There are {} duplicated values in the data\".format(dup_num))\n",
    "\n",
    "na_num = data_explore.isna().sum().sum()\n",
    "print(f\"There are {na_num} Na values in the data\")\n",
    "\n",
    "data_explore.describe()\n"
   ]
  },
  {
   "cell_type": "markdown",
   "metadata": {},
   "source": [
    "Measuring the correlation between the current numerical variables:"
   ]
  },
  {
   "cell_type": "code",
   "execution_count": null,
   "metadata": {},
   "outputs": [],
   "source": [
    "sns.set(rc={'figure.figsize': (10, 6)})\n",
    "sns.heatmap(data_explore.corr(), annot = True, fmt = '.2f', linewidths = 2)\n",
    "plt.title(\"Correlation Heatmap for current numerical variables\")\n",
    "plt.show()"
   ]
  },
  {
   "cell_type": "markdown",
   "metadata": {},
   "source": [
    "We will first drop the episode name and episode number features because they are not relevant to the model."
   ]
  },
  {
   "cell_type": "code",
   "execution_count": null,
   "metadata": {},
   "outputs": [],
   "source": [
    "data_explore = data_explore.drop(\"episode_name\", axis=1)\n",
    "data_explore = data_explore.drop(\"episode\", axis=1)\n",
    "\n",
    "print (data_explore.columns.tolist())"
   ]
  },
  {
   "cell_type": "markdown",
   "metadata": {},
   "source": [
    "Next, we will use the variable \"air_date\" to create two new features: Categorical variable \"calendar_season\", being the season (autumn, winter, spring, summer) when the episode was aired; and (numerical variable?) \"air_month\" being the month the episode aired. After this we drop \"air_date\"."
   ]
  },
  {
   "cell_type": "code",
   "execution_count": null,
   "metadata": {},
   "outputs": [],
   "source": [
    "# data['air_date'] = pd.to_datetime(data['air_date'])\n",
    "\n",
    "# convert the 'dates' column to datetime format\n",
    "data_explore['air_date'] = pd.to_datetime(data_explore['air_date'])\n",
    "\n",
    "# create a new categorical column 'calendar_season' by assigning a category \"winter\", \n",
    "# \"spring\", \"summer\", \"autumn\" depending on the air-month.\n",
    "data_explore['calendar_season'] = pd.cut(\n",
    "    data_explore['air_date'].dt.month, \n",
    "    [0, 3, 6, 9, 12], \n",
    "    labels=['winter', 'spring', 'summer', 'autumn']\n",
    ")\n",
    "\n",
    "# convert calender season to string column rather than categorical column.\n",
    "data_explore['calendar_season'] = data_explore['calendar_season'].astype(str)\n",
    "\n",
    "# Create month column.\n",
    "data_explore['month'] = data_explore['air_date'].dt.month\n",
    "\n",
    "data_explore.head(5)\n"
   ]
  },
  {
   "cell_type": "code",
   "execution_count": null,
   "metadata": {
    "scrolled": true
   },
   "outputs": [],
   "source": [
    "data_explore = data_explore.drop(\"air_date\", axis=1)\n",
    "data_explore.head(5)"
   ]
  },
  {
   "cell_type": "code",
   "execution_count": null,
   "metadata": {},
   "outputs": [],
   "source": [
    "list(data_explore.columns)"
   ]
  },
  {
   "cell_type": "markdown",
   "metadata": {},
   "source": [
    "We now write a one hot encoder function to assign a binary attribute per category for the Categorical variables (\"director, \"writer\", \"calendar_season\" and \"main_chars\"):"
   ]
  },
  {
   "cell_type": "code",
   "execution_count": null,
   "metadata": {},
   "outputs": [],
   "source": [
    "def OneHot_encoder(df, cat_variable):\n",
    "    oneHot_df = df.copy()\n",
    "    variable_initials = ''.join([word[0] for word in cat_variable.split(\"_\")])\n",
    "\n",
    "    \n",
    "    unique_chars = set(';'.join(oneHot_df[cat_variable]).split(';'))\n",
    "\n",
    "    # Create binary attributes for each unique character\n",
    "    for char in unique_chars:\n",
    "        oneHot_df[variable_initials+\"_\"+char] = oneHot_df[cat_variable].apply(lambda x: 1 if char in x else 0)\n",
    "    \n",
    "    \n",
    "    # Drop the original main_chars column\n",
    "    oneHot_df = oneHot_df.drop(columns=[cat_variable])\n",
    "    \n",
    "    return oneHot_df\n",
    "\n",
    "\n",
    "cat_variables = ['director', 'writer', 'main_chars', 'calendar_season']\n",
    "\n",
    "for cat_variable in cat_variables:\n",
    "    data_explore = OneHot_encoder(data_explore, cat_variable)\n",
    "    \n",
    "\n",
    "data_explore.head(5)\n"
   ]
  },
  {
   "cell_type": "code",
   "execution_count": null,
   "metadata": {},
   "outputs": [],
   "source": [
    "# columns = list(data_explore.columns)\n",
    "# mc_list = [columns[i] for i in range(len(columns)) if columns[i][:3] == \"mc_\"]\n",
    "# n = len(mc_list)"
   ]
  },
  {
   "cell_type": "code",
   "execution_count": null,
   "metadata": {},
   "outputs": [],
   "source": [
    "# pairnames = []\n",
    "# for i in range(n-1):\n",
    "#     for j in range(i+1,n):\n",
    "#         pairname = \"pair_\" + mc_list[i][3:] + \"_\"+ mc_list[j][3:]\n",
    "#         pairnames.append(pairname)\n",
    "#         data_explore[pairname] = ((data_explore[mc_list[i]] + data_explore[mc_list[j]])//2)"
   ]
  },
  {
   "cell_type": "code",
   "execution_count": null,
   "metadata": {},
   "outputs": [],
   "source": [
    "corr_mat = data_explore.corr()[\"imdb_rating\"]\n",
    "\n",
    "corr_array = np.zeros((n,n))\n",
    "for i in range(n-1):\n",
    "    for j in range(i+1,n):\n",
    "        pairname = \"pair_\" + mc_list[i][3:] + \"_\"+ mc_list[j][3:]\n",
    "        corr_array[i][j] = corr_mat[pairname]\n",
    "        corr_array[j][i] = corr_mat[pairname]\n",
    "    corr_array[i][i] = corr_mat[mc_list[i]]"
   ]
  },
  {
   "cell_type": "code",
   "execution_count": null,
   "metadata": {},
   "outputs": [],
   "source": [
    "# fig, axes = plt.subplots(figsize = (10,10), ncols = 1)\n",
    "\n",
    "# mc_names = [mc_name[3:] for mc_name in mc_list]\n",
    "# plt.grid(b=False)\n",
    "# plt.imshow(corr_array)\n",
    "# plt.colorbar()\n",
    "# plt.xticks(range(n), mc_names, rotation ='vertical')\n",
    "# plt.yticks(range(n), mc_names)\n",
    "# plt.show()"
   ]
  },
  {
   "cell_type": "markdown",
   "metadata": {},
   "source": [
    "By inspection we realised that there are some repeated directors where in some data entries the name of the director is spelled wrong. The specific cases were:\n",
    "\n",
    " - Charles McDougall (correct name) and Charles McDougal\n",
    " - Claire Scanlon (correct name) and Claire Scanlong \n",
    " - Greg Daniels (correct name) and Greg Daneils\n",
    " - Ken Whittingham (correct name) and Ken Wittingham \n",
    " - Paul Lieberstein (correct name) and Paul Lieerstein\n",
    " \n",
    "Thus we now write code to remove columns with the wrong name, where we will put a 1 in the correct name column if the incorrect one had a 1 and the correct one didn't."
   ]
  },
  {
   "cell_type": "code",
   "execution_count": 17,
   "metadata": {},
   "outputs": [
    {
     "data": {
      "text/html": [
       "<div>\n",
       "<style scoped>\n",
       "    .dataframe tbody tr th:only-of-type {\n",
       "        vertical-align: middle;\n",
       "    }\n",
       "\n",
       "    .dataframe tbody tr th {\n",
       "        vertical-align: top;\n",
       "    }\n",
       "\n",
       "    .dataframe thead th {\n",
       "        text-align: right;\n",
       "    }\n",
       "</style>\n",
       "<table border=\"1\" class=\"dataframe\">\n",
       "  <thead>\n",
       "    <tr style=\"text-align: right;\">\n",
       "      <th></th>\n",
       "      <th>season</th>\n",
       "      <th>imdb_rating</th>\n",
       "      <th>total_votes</th>\n",
       "      <th>n_lines</th>\n",
       "      <th>n_directions</th>\n",
       "      <th>n_words</th>\n",
       "      <th>n_speak_char</th>\n",
       "      <th>cold_open</th>\n",
       "      <th>jim_pranks</th>\n",
       "      <th>pam_and_tim_key_episode</th>\n",
       "      <th>...</th>\n",
       "      <th>mc_Kelly</th>\n",
       "      <th>mc_Ryan</th>\n",
       "      <th>mc_Meredith</th>\n",
       "      <th>mc_Andy</th>\n",
       "      <th>mc_Pam</th>\n",
       "      <th>mc_Darryl</th>\n",
       "      <th>cs_spring</th>\n",
       "      <th>cs_summer</th>\n",
       "      <th>cs_winter</th>\n",
       "      <th>cs_autumn</th>\n",
       "    </tr>\n",
       "  </thead>\n",
       "  <tbody>\n",
       "    <tr>\n",
       "      <th>0</th>\n",
       "      <td>1</td>\n",
       "      <td>7.6</td>\n",
       "      <td>3706</td>\n",
       "      <td>229</td>\n",
       "      <td>27</td>\n",
       "      <td>2757</td>\n",
       "      <td>15</td>\n",
       "      <td>0.0</td>\n",
       "      <td>3</td>\n",
       "      <td>1</td>\n",
       "      <td>...</td>\n",
       "      <td>0</td>\n",
       "      <td>1</td>\n",
       "      <td>0</td>\n",
       "      <td>0</td>\n",
       "      <td>1</td>\n",
       "      <td>0</td>\n",
       "      <td>0</td>\n",
       "      <td>0</td>\n",
       "      <td>1</td>\n",
       "      <td>0</td>\n",
       "    </tr>\n",
       "    <tr>\n",
       "      <th>1</th>\n",
       "      <td>1</td>\n",
       "      <td>8.3</td>\n",
       "      <td>3566</td>\n",
       "      <td>203</td>\n",
       "      <td>20</td>\n",
       "      <td>2808</td>\n",
       "      <td>12</td>\n",
       "      <td>0.0</td>\n",
       "      <td>0</td>\n",
       "      <td>0</td>\n",
       "      <td>...</td>\n",
       "      <td>1</td>\n",
       "      <td>1</td>\n",
       "      <td>0</td>\n",
       "      <td>0</td>\n",
       "      <td>1</td>\n",
       "      <td>0</td>\n",
       "      <td>0</td>\n",
       "      <td>0</td>\n",
       "      <td>1</td>\n",
       "      <td>0</td>\n",
       "    </tr>\n",
       "    <tr>\n",
       "      <th>2</th>\n",
       "      <td>1</td>\n",
       "      <td>7.9</td>\n",
       "      <td>2983</td>\n",
       "      <td>244</td>\n",
       "      <td>21</td>\n",
       "      <td>2769</td>\n",
       "      <td>13</td>\n",
       "      <td>0.0</td>\n",
       "      <td>2</td>\n",
       "      <td>0</td>\n",
       "      <td>...</td>\n",
       "      <td>0</td>\n",
       "      <td>1</td>\n",
       "      <td>1</td>\n",
       "      <td>0</td>\n",
       "      <td>1</td>\n",
       "      <td>0</td>\n",
       "      <td>1</td>\n",
       "      <td>0</td>\n",
       "      <td>0</td>\n",
       "      <td>0</td>\n",
       "    </tr>\n",
       "    <tr>\n",
       "      <th>3</th>\n",
       "      <td>1</td>\n",
       "      <td>8.1</td>\n",
       "      <td>2886</td>\n",
       "      <td>243</td>\n",
       "      <td>24</td>\n",
       "      <td>2939</td>\n",
       "      <td>14</td>\n",
       "      <td>0.0</td>\n",
       "      <td>1</td>\n",
       "      <td>0</td>\n",
       "      <td>...</td>\n",
       "      <td>0</td>\n",
       "      <td>1</td>\n",
       "      <td>1</td>\n",
       "      <td>0</td>\n",
       "      <td>1</td>\n",
       "      <td>0</td>\n",
       "      <td>1</td>\n",
       "      <td>0</td>\n",
       "      <td>0</td>\n",
       "      <td>0</td>\n",
       "    </tr>\n",
       "    <tr>\n",
       "      <th>4</th>\n",
       "      <td>1</td>\n",
       "      <td>8.4</td>\n",
       "      <td>3179</td>\n",
       "      <td>230</td>\n",
       "      <td>49</td>\n",
       "      <td>2437</td>\n",
       "      <td>18</td>\n",
       "      <td>0.0</td>\n",
       "      <td>0</td>\n",
       "      <td>0</td>\n",
       "      <td>...</td>\n",
       "      <td>0</td>\n",
       "      <td>1</td>\n",
       "      <td>0</td>\n",
       "      <td>0</td>\n",
       "      <td>1</td>\n",
       "      <td>1</td>\n",
       "      <td>1</td>\n",
       "      <td>0</td>\n",
       "      <td>0</td>\n",
       "      <td>0</td>\n",
       "    </tr>\n",
       "  </tbody>\n",
       "</table>\n",
       "<p>5 rows × 127 columns</p>\n",
       "</div>"
      ],
      "text/plain": [
       "   season  imdb_rating  total_votes  n_lines  n_directions  n_words  \\\n",
       "0       1          7.6         3706      229            27     2757   \n",
       "1       1          8.3         3566      203            20     2808   \n",
       "2       1          7.9         2983      244            21     2769   \n",
       "3       1          8.1         2886      243            24     2939   \n",
       "4       1          8.4         3179      230            49     2437   \n",
       "\n",
       "   n_speak_char  cold_open  jim_pranks  pam_and_tim_key_episode  ...  \\\n",
       "0            15        0.0           3                        1  ...   \n",
       "1            12        0.0           0                        0  ...   \n",
       "2            13        0.0           2                        0  ...   \n",
       "3            14        0.0           1                        0  ...   \n",
       "4            18        0.0           0                        0  ...   \n",
       "\n",
       "   mc_Kelly  mc_Ryan  mc_Meredith  mc_Andy  mc_Pam  mc_Darryl  cs_spring  \\\n",
       "0         0        1            0        0       1          0          0   \n",
       "1         1        1            0        0       1          0          0   \n",
       "2         0        1            1        0       1          0          1   \n",
       "3         0        1            1        0       1          0          1   \n",
       "4         0        1            0        0       1          1          1   \n",
       "\n",
       "   cs_summer  cs_winter  cs_autumn  \n",
       "0          0          1          0  \n",
       "1          0          1          0  \n",
       "2          0          0          0  \n",
       "3          0          0          0  \n",
       "4          0          0          0  \n",
       "\n",
       "[5 rows x 127 columns]"
      ]
     },
     "execution_count": 17,
     "metadata": {},
     "output_type": "execute_result"
    }
   ],
   "source": [
    "correct_names = ['d_Charles McDougall','d_Claire Scanlon','d_Greg Daniels', 'd_Ken Whittingham', 'd_Paul Lieberstein']\n",
    "wrong_names = ['d_Charles McDougal','d_Claire Scanlong','d_Greg Daneils', 'd_Ken Wittingham', 'd_Paul Lieerstein']\n",
    "\n",
    "for i, correct_name in enumerate(correct_names):\n",
    "    data_explore.loc[data_explore[wrong_names[i]] == 1, correct_name] = 1\n",
    "    data_explore = data_explore.drop(wrong_names[i], axis=1)\n",
    "    \n",
    "data_explore.head(5)"
   ]
  },
  {
   "cell_type": "code",
   "execution_count": 18,
   "metadata": {},
   "outputs": [],
   "source": [
    "list(data_explore.columns)"
   ]
  },
  {
   "cell_type": "code",
   "execution_count": null,
   "metadata": {},
   "outputs": [],
   "source": []
  },
  {
   "cell_type": "markdown",
   "metadata": {
    "id": "Ad7J-Yw67Fo3"
   },
   "source": [
    "## 3. Model Fitting and Tuning"
   ]
  },
  {
   "cell_type": "markdown",
   "metadata": {
    "id": "EXdvOaZs7Fo3"
   },
   "source": [
    "*In this section you should detail your choice of model and describe the process used to refine and fit that model.*\n",
    "\n",
    "- You are strongly encouraged to explore many different modeling methods (e.g. linear regression, regression trees, lasso, etc.) but you should not include a detailed narrative of all of these attempts. \n",
    "- At most this section should mention the methods explored and why they were rejected - most of your effort should go into describing the model you are using and your process for tuning and validatin it.\n",
    "\n",
    "*For example if you considered a linear regression model, a classification tree, and a lasso model and ultimately settled on the linear regression approach then you should mention that other two approaches were tried but do not include any of the code or any in depth discussion of these models beyond why they were rejected. This section should then detail is the development of the linear regression model in terms of features used, interactions considered, and any additional tuning and validation which ultimately led to your final model.* \n",
    "\n",
    "**This section should also include the full implementation of your final model, including all necessary validation. As with figures, any included code must also be addressed in the text of the document.**"
   ]
  },
  {
   "cell_type": "code",
   "execution_count": 19,
   "metadata": {},
   "outputs": [],
   "source": [
    "from sklearn.linear_model import LinearRegression\n",
    "from sklearn.pipeline import Pipeline\n",
    "from sklearn.model_selection import train_test_split\n",
    "from sklearn.preprocessing import StandardScaler\n",
    "from sklearn.metrics import mean_squared_error, r2_score\n",
    "from sklearn.linear_model import Ridge\n",
    "\n",
    "def get_coefs(m):\n",
    "    \"\"\"Returns the model coefficients from a Scikit-learn model object as an array,\n",
    "    includes the intercept if available.\n",
    "    \"\"\"\n",
    "    \n",
    "    # If pipeline, use the last step as the model\n",
    "    if (isinstance(m, sklearn.pipeline.Pipeline)):\n",
    "        m = m.steps[-1][1]\n",
    "    \n",
    "    \n",
    "    if m.intercept_ is None:\n",
    "        return m.coef_\n",
    "    \n",
    "    return m.coef_\n",
    "\n",
    "\n",
    "# Having done all the data exploration and feature engineering, we not set our starting dataframe to the \n",
    "# engineered dataframe.\n",
    "data = data_explore\n",
    "\n",
    "X_train, X_test, y_train, y_test = train_test_split(\n",
    "    data.drop('imdb_rating', axis=1), data['imdb_rating'], \n",
    "    test_size=0.3, random_state=42\n",
    ")"
   ]
  },
  {
   "cell_type": "markdown",
   "metadata": {},
   "source": [
    "### Multiple linear regression\n",
    "\n",
    "We start by fitting a multiple linear regression, and testing performance. We use a sklearn pipeline to fit the model. "
   ]
  },
  {
   "cell_type": "code",
   "execution_count": 20,
   "metadata": {},
   "outputs": [
    {
     "name": "stdout",
     "output_type": "stream",
     "text": [
      "Mean squared error: 0.3359611558874715\n",
      "R-squared: -0.7181855295473032\n"
     ]
    },
    {
     "data": {
      "image/png": "[encoded data removed]",
      "text/plain": [
       "<Figure size 800x480 with 1 Axes>"
      ]
     },
     "metadata": {},
     "output_type": "display_data"
    }
   ],
   "source": [
    "model_pipeline = Pipeline([\n",
    "    ('regressor', LinearRegression())\n",
    "])\n",
    "\n",
    "\n",
    "# Fitting the model\n",
    "model_pipeline.fit(X_train, y_train)\n",
    "\n",
    "# Testing the model\n",
    "y_predict = model_pipeline.predict(X_test)\n",
    "\n",
    "# Printing performance metrics\n",
    "print(f\"Mean squared error: {mean_squared_error(y_test, y_predict)}\")\n",
    "print(f\"R-squared: {r2_score(y_test, y_predict)}\")\n",
    "\n",
    "sns.scatterplot(x=y_test, y=y_predict)\n",
    "plt.xlabel('Actual IMDB rating')\n",
    "plt.ylabel('Predicted IMDB rating')\n",
    "plt.title('Linear regression model performance')\n",
    "\n",
    "sns.regplot(x=y_test, y=y_predict, line_kws={'color': 'red'})\n",
    "\n",
    "plt.show()"
   ]
  },
  {
   "cell_type": "markdown",
   "metadata": {},
   "source": [
    "### Ridge model"
   ]
  },
  {
   "cell_type": "code",
   "execution_count": 21,
   "metadata": {},
   "outputs": [
    {
     "name": "stdout",
     "output_type": "stream",
     "text": [
      "Mean squared error: 0.11845179690856554\n",
      "Residual mean squared error: 0.34416826830573083\n",
      "R-squared: 0.3942092416620271\n"
     ]
    },
    {
     "data": {
      "image/png": "[encoded data removed]",
      "text/plain": [
       "<Figure size 800x480 with 1 Axes>"
      ]
     },
     "metadata": {},
     "output_type": "display_data"
    }
   ],
   "source": [
    "model_pipeline_ridge = Pipeline([\n",
    "    ('scaler', StandardScaler()),\n",
    "    ('model', Ridge(alpha=100))\n",
    "])\n",
    "\n",
    "\n",
    "# Fitting the model\n",
    "model_pipeline_ridge.fit(X_train, y_train)\n",
    "\n",
    "# Testing the model\n",
    "y_predict = model_pipeline_ridge.predict(X_test)\n",
    "\n",
    "# Printing performance metrics\n",
    "print(f\"Mean squared error: {mean_squared_error(y_test, y_predict)}\")\n",
    "print (f\"Residual mean squared error: {np.sqrt(mean_squared_error(y_test, y_predict))}\")\n",
    "print(f\"R-squared: {r2_score(y_test, y_predict)}\")\n",
    "\n",
    "sns.scatterplot(x=y_test, y=y_predict)\n",
    "plt.xlabel('Actual IMDB rating')\n",
    "plt.ylabel('Predicted IMDB rating')\n",
    "plt.title('Linear regression RIDGE model performance')\n",
    "\n",
    "sns.regplot(x=y_test, y=y_predict, line_kws={'color': 'red'})\n",
    "\n",
    "plt.show()"
   ]
  },
  {
   "cell_type": "markdown",
   "metadata": {},
   "source": [
    "Plotting the coefficients for directors, writers and main characters."
   ]
  },
  {
   "cell_type": "code",
   "execution_count": 22,
   "metadata": {},
   "outputs": [],
   "source": [
    "coeffients_series = pd.Series(get_coefs(model_pipeline_ridge), index=X_train.columns)\n",
    "\n",
    "directors = data.filter(regex='^d_').columns.values\n",
    "writers = data.filter(regex='^w_').columns.values\n",
    "main_characters = data.filter(regex='^mc_').columns.values\n",
    "\n",
    "def plot_coef_magnitude(coef_series, label):\n",
    "    # sort the coefficients by magnitude in descending order\n",
    "    sorted_coef = coef_series.abs().sort_values(ascending=False)\n",
    "\n",
    "    # create a bar plot for the coefficients\n",
    "    plt.figure(figsize=(12, 6))\n",
    "    plt.bar(sorted_coef.index, sorted_coef.values)\n",
    "    plt.xticks(rotation=90)\n",
    "    plt.xlabel(label)\n",
    "    plt.ylabel('Coefficient')\n",
    "    plt.title('Coefficient Magnitude ({})'.format(label))\n",
    "    plt.show()\n",
    "You can call this function with a pandas Series for each of the writers, directors, and main characters:\n",
    "\n",
    "python\n",
    "Copy code\n",
    "plot_coef_magnitude(coef_writers, 'Writers')\n",
    "plot_coef_magnitude(coef_directors, 'Directors')\n",
    "plot_coef_magnitude(coef_main_characters, 'Main Characters')\n",
    "This will create three separate bar plots for the coefficients of the features related to writers, directors, and main characters, each with the appropriate label for the x-axis.\n",
    "\n",
    "\n",
    "\n",
    "\n",
    "s1910843@ed.ac.uk\n",
    "Can you writer code again that gets the coef_writers, coef_directors and coef_main_characters\n",
    "Sure! Here's the code to get the coefficient series for the writers, directors, and main characters:\n",
    "\n",
    "python\n",
    "Copy code\n",
    "import numpy as np\n",
    "import pandas as pd\n",
    "from sklearn.linear_model import Ridge\n",
    "from sklearn.pipeline import make_pipeline\n",
    "from sklearn.preprocessing import StandardScaler\n",
    "\n",
    "# Load the Office dataset\n",
    "df = pd.read_csv('the_office.csv')\n",
    "\n",
    "# Separate features and response variable\n",
    "X = df.drop(['imdb'], axis=1)\n",
    "y = df['imdb']\n",
    "\n",
    "# Create separate dataframes for writers, directors, and main characters\n",
    "X_writers = X.filter(regex='^w_')\n",
    "X_directors = X.filter(regex='^d_')\n",
    "X_main_characters = X.filter(regex='^mc_')\n",
    "\n",
    "# Create separate pipelines for writers, directors, and main characters\n",
    "pipe_writers = make_pipeline(StandardScaler(), Ridge(alpha=1))\n",
    "pipe_directors = make_pipeline(StandardScaler(), Ridge(alpha=1))\n",
    "pipe_main_characters = make_pipeline(StandardScaler(), Ridge(alpha=1))\n",
    "\n",
    "# Fit the pipelines to the data for each category\n",
    "pipe_writers.fit(X_writers, y)\n",
    "pipe_directors.fit(X_directors, y)\n",
    "pipe_main_characters.fit(X_main_characters, y)\n",
    "\n",
    "# Get the coefficients for each category\n",
    "coef_writers = pd.Series(pipe_writers.named_steps['ridge'].coef_, index=X_writers.columns)\n",
    "coef_directors = pd.Series(pipe_directors.named_steps['ridge'].coef_, index=X_directors.columns)\n",
    "coef_main_characters = pd.Series(pipe_main_characters.named_steps['ridge'].coef_, index=X_main_characters.columns)\n",
    "You can then pass these coefficient series to the function plot_coef_magnitude() to generate the bar plots of the coefficient magnitudes.\n",
    "\n",
    "\n",
    "\n",
    "\n",
    "s1910843@ed.ac.uk\n",
    "Why do I get this error AttributeError                            Traceback (most recent call last)\n",
    "<ipython-input-25-164eabe71372> in <module>\n",
    "      5 \n",
    "      6 coef_writers = pd.Series(\n",
    "----> 7     model_pipeline_ridge.coef_[writers],\n",
    "      8     index=X_train.columns[writers]\n",
    "      9 )\n",
    "\n",
    "AttributeError: 'Pipeline' object has no attribute 'coef_'\n",
    "The error occurs because you are trying to access the coef_ attribute of the pipeline object model_pipeline_ridge, which does not have a coef_ attribute.\n",
    "\n",
    "To get the coefficients of the ridge model in the pipeline, you need to access the coef_ attribute of the Ridge estimator in the pipeline. Here's how you can modify your code to get the coefficients:\n",
    "\n",
    "python\n",
    "Copy code\n",
    "import pandas as pd\n",
    "import matplotlib.pyplot as plt\n",
    "from sklearn.pipeline import make_pipeline\n",
    "from sklearn.linear_model import Ridge\n",
    "from sklearn.preprocessing import StandardScaler\n",
    "\n",
    "# Load the data\n",
    "df = pd.read_csv('the_office.csv')\n",
    "\n",
    "# Separate the features and response variable\n",
    "X = df.drop('imdb', axis=1)\n",
    "y = df['imdb']\n",
    "\n",
    "# Create separate dataframes for writers, directors, and main characters\n",
    "writers = X.columns.str.startswith('w_')\n",
    "directors = X.columns.str.startswith('d_')\n",
    "main_characters = X.columns.str.startswith('mc_')\n",
    "X_writers = X.loc[:, writers]\n",
    "X_directors = X.loc[:, directors]\n",
    "X_main_characters = X.loc[:, main_characters]\n",
    "\n",
    "# Create pipelines for each category\n",
    "pipe_writers = make_pipeline(StandardScaler(), Ridge(alpha=1))\n",
    "pipe_directors = make_pipeline(StandardScaler(), Ridge(alpha=1))\n",
    "pipe_main_characters = make_pipeline(StandardScaler(), Ridge(alpha=1))\n",
    "\n",
    "# Fit the pipelines to the data for each category\n",
    "pipe_writers.fit(X_writers, y)\n",
    "pipe_directors.fit(X_directors, y)\n",
    "pipe_main_characters.fit(X_main_characters, y)\n",
    "\n",
    "# Get the coefficients for each category\n",
    "coef_writers = pd.Series(\n",
    "    pipe_writers.named_steps['ridge'].coef_,\n",
    "    index=X_writers.columns\n",
    ")\n",
    "coef_directors = pd.Series(\n",
    "    pipe_directors.named_steps['ridge'].coef_,\n",
    "    index=X_directors.columns\n",
    ")\n",
    "coef_main_characters = pd.Series(\n",
    "    pipe_main_characters.named_steps['ridge'].coef_,\n",
    "    index=X_main_characters.columns\n",
    ")\n",
    "\n",
    "# Define a function to plot the coefficient magnitudes\n",
    "def plot_coef_magnitude(coefs, title):\n",
    "    coefs = coefs.abs().sort_values(ascending=False)\n",
    "    ax = coefs.plot(kind='bar', figsize=(8, 6), color='b')\n",
    "    ax.set(title=title, xlabel='Feature', ylabel='Absolute Coefficient Value')\n",
    "    plt.show()\n",
    "\n",
    "# Plot the coefficient magnitudes for each category\n",
    "plot_coef_magnitude(coef_writers, 'Magnitude of Coefficients - Writers')\n",
    "plot_coef_magnitude(coef_directors, 'Magnitude of Coefficients - Directors')\n",
    "plot_coef_magnitude(coef_main_characters, 'Magnitude of Coefficients - Main Characters')\n",
    "Here, we access the coef_ attribute of the Ridge estimator in each pipeline using the named_steps attribute of the pipeline, which returns a dictionary-like object containing the estimators in the pipeline.\n",
    "\n",
    "\n",
    "\n",
    "\n",
    "s1910843@ed.ac.uk\n",
    "I have a fitted ridge model. How can I tell which coefficient corresponds to which feature\n",
    "To see which coefficient corresponds to which feature in a fitted ridge model, you can access the coef_ attribute of the fitted model object. This attribute returns an array of coefficients, where the i-th element corresponds to the i-th feature in the input data. You can then create a Pandas Series using this array, with the feature names as the index. Here's an example:\n",
    "\n",
    "python\n",
    "Copy code\n",
    "import pandas as pd\n",
    "from sklearn.linear_model import Ridge\n",
    "\n",
    "# assume X_train, X_test, y_train, y_test are already defined\n",
    "# and the Ridge model has been fit and saved as 'model_ridge'\n",
    "\n",
    "# create a Pandas Series of coefficients, with feature names as the index\n",
    "coef_series = pd.Series(model_ridge.coef_, index=X_train.columns)\n",
    "\n",
    "# print the top 10 features with the largest coefficients\n",
    "print(coef_series.abs().nlargest(10))\n",
    "This will print out the top 10 features with the largest absolute coefficients. You can modify the number of features and the sorting method as needed.\n",
    "\n",
    "\n",
    "\n",
    "\n",
    "s1910843@ed.ac.uk\n",
    "I have a list of feature names, how can I now get the coefficients corresponding to these names from the coefficient series\n",
    "You can use the .loc[] accessor to select the coefficients for specific features from the Pandas Series of coefficients. Assuming you have a list of feature names called features_list, you can get the corresponding coefficients as follows:\n",
    "\n",
    "css\n",
    "Copy code\n",
    "coef_series.loc[features_list]\n",
    "This will return a new Pandas Series containing only the coefficients for the features in features_list. The order of the coefficients will match the order of the features in features_list. If any of the feature names are not present in coef_series, they will be omitted from the returned Series.\n",
    "\n",
    "\n",
    "\n",
    "\n",
    "s1910843@ed.ac.uk\n",
    "How can I get all the features in a df that start by \"mc_\"\n",
    "You can use the .filter() method of a Pandas DataFrame to select columns that match a particular pattern. In your case, you can use the following code to select all columns in a DataFrame df that start with the string \"mc_\":\n",
    "\n",
    "python\n",
    "Copy code\n",
    "mc_cols = df.filter(regex='^mc_').columns\n",
    "The ^ character at the beginning of the regular expression specifies that the pattern should match at the start of the column name. The filter() method returns a new DataFrame containing only the columns that match the pattern, and the columns attribute of the resulting DataFrame is used to get the column labels as a Pandas Index object. The resulting mc_cols variable will contain a list-like object of all column labels that match the pattern \"mc_\".\n",
    "\n",
    "\n",
    "\n",
    "\n",
    "\n",
    "\n",
    "\n",
    "\n",
    "\n",
    "\n"
   ]
  },
  {
   "cell_type": "markdown",
   "metadata": {
    "id": "edQVULLU7Fo3"
   },
   "source": [
    "## 4. Discussion and Conclusions\n"
   ]
  },
  {
   "cell_type": "markdown",
   "metadata": {
    "id": "Fi0yKPrQ7Fo4"
   },
   "source": [
    "*In this section you should provide a general overview of **your final model**, its **performance**, and **reliability**.* \n",
    "\n",
    "- You should discuss what the implications of your model are in terms of the included features, predictive performance, and anything else you think is relevant.\n",
    "\n",
    "- This should be written with a target audience of a NBC Universal executive who is with the show and university level mathematics but not necessarily someone who has taken a postgraduate statistical modeling course. \n",
    "\n",
    "- Your goal should be to convince this audience that your model is both accurate and useful.\n",
    "\n",
    "- Finally, you should include concrete recommendations on what NBC Universal should do to make their reunion episode a popular as possible.\n",
    "\n",
    "**Keep in mind that a negative result, i.e. a model that does not work well predictively, but that is well explained and justified in terms of why it failed will likely receive higher marks than a model with strong predictive performance but with poor or incorrect explanations / justifications.**"
   ]
  },
  {
   "cell_type": "markdown",
   "metadata": {},
   "source": [
    "## 5. References\n",
    "\n",
    "*In this section, you should present a list of external sources (except the course materials) that you used during the project, if any*\n",
    "\n",
    "Additional data sources can be cited here, in addition to related python documentations, any other webpage sources that you benefited from\n",
    "\n",
    "\n",
    "* Evkaya, Ozan. 2023. *The Office CSV Data File*, MATH11205: Machine Learning in Python, The University of Edinburgh."
   ]
  }
 ],
 "metadata": {
  "colab": {
   "collapsed_sections": [],
   "name": "project1.ipynb",
   "provenance": []
  },
  "kernelspec": {
   "display_name": "Python 3",
   "language": "python",
   "name": "python3"
  },
  "language_info": {
   "codemirror_mode": {
    "name": "ipython",
    "version": 3
   },
   "file_extension": ".py",
   "mimetype": "text/x-python",
   "name": "python",
   "nbconvert_exporter": "python",
   "pygments_lexer": "ipython3",
   "version": "3.8.1"
  }
 },
 "nbformat": 4,
 "nbformat_minor": 1
}
