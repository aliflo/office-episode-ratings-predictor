{
 "cells": [
  {
   "cell_type": "markdown",
   "metadata": {
    "id": "rOyOkJJA7Foy"
   },
   "source": [
    "# Machine Learning in Python - Group Project 1\n",
    "\n",
    "**Due Friday, March 10th by 16.00 pm.**\n",
    "\n",
    "*Luke Appleby, Josep Reyero, Tom Birkbeck, Adam Dunajski*"
   ]
  },
  {
   "cell_type": "markdown",
   "metadata": {
    "id": "PqPpPRE37Fo0"
   },
   "source": [
    "## General Setup"
   ]
  },
  {
   "cell_type": "code",
   "execution_count": 1,
   "metadata": {
    "id": "jb4qh-pi7Fo1"
   },
   "outputs": [],
   "source": [
    "# Add any additional libraries or submodules below\n",
    "\n",
    "# Data libraries\n",
    "import numpy as np\n",
    "import pandas as pd\n",
    "\n",
    "# Plotting libraries\n",
    "import matplotlib.pyplot as plt\n",
    "import seaborn as sns\n",
    "\n",
    "# Plotting defaults\n",
    "plt.rcParams['figure.figsize'] = (8,5)\n",
    "plt.rcParams['figure.dpi'] = 80\n",
    "\n",
    "# sklearn modules that are necessary\n",
    "import sklearn"
   ]
  },
  {
   "cell_type": "code",
   "execution_count": 2,
   "metadata": {
    "id": "hjs5785u7Fo1"
   },
   "outputs": [],
   "source": [
    "# Load data\n",
    "data = pd.read_csv(\"the_office.csv\")\n",
    "data_explore = data.copy()"
   ]
  },
  {
   "cell_type": "code",
   "execution_count": 3,
   "metadata": {},
   "outputs": [],
   "source": [
    "with open('MLP_cold_opens.txt', 'r') as file:\n",
    "    new_data = file.read().replace('\\n', '')\n",
    "\n",
    "x = new_data.split(\")\")\n",
    "hots = []\n",
    "for i in range(len(x)):\n",
    "    if x[i][0:4] == 'None':\n",
    "        hots.append(x[i][7:-1])\n",
    "    elif x[i][0:8] == 'Season 1' and x[i][8:12] == 'None':\n",
    "        hots.append(x[i][14:])\n",
    "    elif x[i][0:6] == 'Season' and x[i][8:12] == 'None':\n",
    "        hots.append(x[i][15:-1])\n",
    "\n",
    "hots_df = pd.DataFrame (hots, columns = ['episode_name'])\n",
    "hots_df['cold_open'] = np.zeros(12).astype(int)\n",
    "hots_df = hots_df.replace(to_replace = 'Weight Loss', value = 'Weight Loss (Parts 1&2)')\n",
    "data_ = pd.merge(data, hots_df, on='episode_name', how='left')\n",
    "data_['cold_open'] = data_['cold_open'].fillna(1)\n",
    "\n",
    "data_.loc[data_['cold_open'] == 1]\n",
    "\n",
    "data = data_"
   ]
  },
  {
   "cell_type": "code",
   "execution_count": 5,
   "metadata": {},
   "outputs": [],
   "source": [
    "with open('MLP_jim_pranks.txt', 'r') as file:\n",
    "    pranks_str = file.read().replace('\\n', '')\n",
    "    \n",
    "x0 = pranks_str.split('(')\n",
    "j = 0\n",
    "for i in x0:\n",
    "    x0[j] = i.split(')')\n",
    "    j+=1\n",
    "j = 0\n",
    "for i in x0:\n",
    "    x0[j] = i[0]\n",
    "    j +=1\n",
    "for i in range(len(x0)):\n",
    "    x0[i] = x0[i][1:-1]\n",
    "\n",
    "\n",
    "names = data['episode_name']\n",
    "\n",
    "names = names.replace(to_replace = 'E-Mail Surveilance', value = 'Email Surveillance')\n",
    "names = names.replace(to_replace = 'A Benihana Christmas ', value = 'A Benihana Christmas')\n",
    "names = names.replace(to_replace = 'The Job ', value = 'The Job', regex = True)\n",
    "names = names.replace(to_replace = 'Launch Party ', value = 'Launch Party', regex = True)\n",
    "names = names.replace(to_replace = 'Goodbye, Toby ', value = 'Goodbye Toby', regex = True)\n",
    "names = names.replace(to_replace = 'Niagara ', value = 'Niagara', regex = True)\n",
    "names = names.replace(to_replace = 'The Cover', value = 'The Cover-Up', regex = True)\n",
    "names = names.replace(to_replace = 'Classy Christmas ', value = 'Classy Christmas', regex = True)\n",
    "names = names.replace(to_replace = 'Dwight K. Schrute, (Acting) Manager', value = 'Dwight K. Schrute,')\n",
    "names = np.array(names)\n",
    "\n",
    "j = 0\n",
    "for i in names:\n",
    "    if i[-11:] == '(Parts 1&2)':\n",
    "        names[j] = i[:-11]\n",
    "    elif i[-8:] == '(Part 1)' or i[-8:] == '(Part 2)':\n",
    "        names[j] = i[:-8]\n",
    "    j +=1\n",
    "        \n",
    "pranks = []\n",
    "for i in names:\n",
    "    #print(x0.count(i))\n",
    "    pranks.append(x0.count(i))\n",
    "#    a += x0.count(i)\n",
    "\n",
    "data['jim_pranks'] = pranks\n",
    "\n",
    "data\n",
    "data_explore = data.copy()"
   ]
  },
  {
   "cell_type": "markdown",
   "metadata": {
    "id": "K314dGEL7Fo1"
   },
   "source": [
    "## 1. Introduction\n",
    "\n",
    "*This section should include a brief introduction to the task and the data (assume this is a report you are delivering to a client).* \n",
    "\n",
    "- If you use any additional data sources, you should introduce them here and discuss why they were included.\n",
    "\n",
    "- Briefly outline the approaches being used and the conclusions that you are able to draw."
   ]
  },
  {
   "cell_type": "markdown",
   "metadata": {
    "id": "3P6Vdzbo7Fo2"
   },
   "source": [
    "## 2. Exploratory Data Analysis and Feature Engineering"
   ]
  },
  {
   "cell_type": "markdown",
   "metadata": {
    "id": "Arg9_dYE7Fo2"
   },
   "source": [
    "*Include a detailed discussion of the data with a particular emphasis on the features of the data that are relevant for the subsequent modeling.* \n",
    "\n",
    "- Including visualizations of the data is strongly encouraged - all code and plots must also be described in the write up. \n",
    "- Think carefully about whether each plot needs to be included in your final draft - your report should include figures but they should be as focused and impactful as possible.\n",
    "\n",
    "*Additionally, this section should also implement and describe any preprocessing / feature engineering of the data.*\n",
    "\n",
    "- Specifically, this should be any code that you use to generate new columns in the data frame `d`. All of this processing is explicitly meant to occur before we split the data in to training and testing subsets. \n",
    "- Processing that will be performed as part of an sklearn pipeline can be mentioned here but should be implemented in the following section.*\n",
    "\n",
    "**All code and figures should be accompanied by text that provides an overview / context to what is being done or presented.**"
   ]
  },
  {
   "cell_type": "code",
   "execution_count": 6,
   "metadata": {},
   "outputs": [
    {
     "name": "stdout",
     "output_type": "stream",
     "text": [
      "Columns in the df are:\n",
      "['season', 'episode', 'episode_name', 'director', 'writer', 'imdb_rating', 'total_votes', 'air_date', 'n_lines', 'n_directions', 'n_words', 'n_speak_char', 'main_chars', 'cold_open', 'jim_pranks'] \n",
      "\n",
      "There are 0 duplicated values in the data\n",
      "There are 0 Na values in the data\n"
     ]
    },
    {
     "data": {
      "text/html": [
       "<div>\n",
       "<style scoped>\n",
       "    .dataframe tbody tr th:only-of-type {\n",
       "        vertical-align: middle;\n",
       "    }\n",
       "\n",
       "    .dataframe tbody tr th {\n",
       "        vertical-align: top;\n",
       "    }\n",
       "\n",
       "    .dataframe thead th {\n",
       "        text-align: right;\n",
       "    }\n",
       "</style>\n",
       "<table border=\"1\" class=\"dataframe\">\n",
       "  <thead>\n",
       "    <tr style=\"text-align: right;\">\n",
       "      <th></th>\n",
       "      <th>season</th>\n",
       "      <th>episode</th>\n",
       "      <th>imdb_rating</th>\n",
       "      <th>total_votes</th>\n",
       "      <th>n_lines</th>\n",
       "      <th>n_directions</th>\n",
       "      <th>n_words</th>\n",
       "      <th>n_speak_char</th>\n",
       "      <th>cold_open</th>\n",
       "      <th>jim_pranks</th>\n",
       "    </tr>\n",
       "  </thead>\n",
       "  <tbody>\n",
       "    <tr>\n",
       "      <th>count</th>\n",
       "      <td>186.000000</td>\n",
       "      <td>186.000000</td>\n",
       "      <td>186.000000</td>\n",
       "      <td>186.000000</td>\n",
       "      <td>186.000000</td>\n",
       "      <td>186.000000</td>\n",
       "      <td>186.000000</td>\n",
       "      <td>186.000000</td>\n",
       "      <td>186.000000</td>\n",
       "      <td>186.000000</td>\n",
       "    </tr>\n",
       "    <tr>\n",
       "      <th>mean</th>\n",
       "      <td>5.462366</td>\n",
       "      <td>12.478495</td>\n",
       "      <td>8.250538</td>\n",
       "      <td>2129.543011</td>\n",
       "      <td>296.397849</td>\n",
       "      <td>50.150538</td>\n",
       "      <td>3053.510753</td>\n",
       "      <td>20.693548</td>\n",
       "      <td>0.935484</td>\n",
       "      <td>0.521505</td>\n",
       "    </tr>\n",
       "    <tr>\n",
       "      <th>std</th>\n",
       "      <td>2.398464</td>\n",
       "      <td>7.233710</td>\n",
       "      <td>0.535168</td>\n",
       "      <td>790.787586</td>\n",
       "      <td>81.998568</td>\n",
       "      <td>23.941797</td>\n",
       "      <td>799.271717</td>\n",
       "      <td>5.092407</td>\n",
       "      <td>0.246333</td>\n",
       "      <td>0.901692</td>\n",
       "    </tr>\n",
       "    <tr>\n",
       "      <th>min</th>\n",
       "      <td>1.000000</td>\n",
       "      <td>1.000000</td>\n",
       "      <td>6.700000</td>\n",
       "      <td>1393.000000</td>\n",
       "      <td>131.000000</td>\n",
       "      <td>11.000000</td>\n",
       "      <td>1098.000000</td>\n",
       "      <td>12.000000</td>\n",
       "      <td>0.000000</td>\n",
       "      <td>0.000000</td>\n",
       "    </tr>\n",
       "    <tr>\n",
       "      <th>25%</th>\n",
       "      <td>3.000000</td>\n",
       "      <td>6.000000</td>\n",
       "      <td>7.900000</td>\n",
       "      <td>1628.500000</td>\n",
       "      <td>255.250000</td>\n",
       "      <td>34.000000</td>\n",
       "      <td>2670.250000</td>\n",
       "      <td>17.000000</td>\n",
       "      <td>1.000000</td>\n",
       "      <td>0.000000</td>\n",
       "    </tr>\n",
       "    <tr>\n",
       "      <th>50%</th>\n",
       "      <td>6.000000</td>\n",
       "      <td>12.000000</td>\n",
       "      <td>8.200000</td>\n",
       "      <td>1954.000000</td>\n",
       "      <td>281.000000</td>\n",
       "      <td>46.000000</td>\n",
       "      <td>2872.500000</td>\n",
       "      <td>20.000000</td>\n",
       "      <td>1.000000</td>\n",
       "      <td>0.000000</td>\n",
       "    </tr>\n",
       "    <tr>\n",
       "      <th>75%</th>\n",
       "      <td>7.750000</td>\n",
       "      <td>18.000000</td>\n",
       "      <td>8.600000</td>\n",
       "      <td>2385.000000</td>\n",
       "      <td>314.500000</td>\n",
       "      <td>60.000000</td>\n",
       "      <td>3141.000000</td>\n",
       "      <td>23.000000</td>\n",
       "      <td>1.000000</td>\n",
       "      <td>1.000000</td>\n",
       "    </tr>\n",
       "    <tr>\n",
       "      <th>max</th>\n",
       "      <td>9.000000</td>\n",
       "      <td>28.000000</td>\n",
       "      <td>9.700000</td>\n",
       "      <td>7934.000000</td>\n",
       "      <td>625.000000</td>\n",
       "      <td>166.000000</td>\n",
       "      <td>6076.000000</td>\n",
       "      <td>54.000000</td>\n",
       "      <td>1.000000</td>\n",
       "      <td>8.000000</td>\n",
       "    </tr>\n",
       "  </tbody>\n",
       "</table>\n",
       "</div>"
      ],
      "text/plain": [
       "           season     episode  imdb_rating  total_votes     n_lines  \\\n",
       "count  186.000000  186.000000   186.000000   186.000000  186.000000   \n",
       "mean     5.462366   12.478495     8.250538  2129.543011  296.397849   \n",
       "std      2.398464    7.233710     0.535168   790.787586   81.998568   \n",
       "min      1.000000    1.000000     6.700000  1393.000000  131.000000   \n",
       "25%      3.000000    6.000000     7.900000  1628.500000  255.250000   \n",
       "50%      6.000000   12.000000     8.200000  1954.000000  281.000000   \n",
       "75%      7.750000   18.000000     8.600000  2385.000000  314.500000   \n",
       "max      9.000000   28.000000     9.700000  7934.000000  625.000000   \n",
       "\n",
       "       n_directions      n_words  n_speak_char   cold_open  jim_pranks  \n",
       "count    186.000000   186.000000    186.000000  186.000000  186.000000  \n",
       "mean      50.150538  3053.510753     20.693548    0.935484    0.521505  \n",
       "std       23.941797   799.271717      5.092407    0.246333    0.901692  \n",
       "min       11.000000  1098.000000     12.000000    0.000000    0.000000  \n",
       "25%       34.000000  2670.250000     17.000000    1.000000    0.000000  \n",
       "50%       46.000000  2872.500000     20.000000    1.000000    0.000000  \n",
       "75%       60.000000  3141.000000     23.000000    1.000000    1.000000  \n",
       "max      166.000000  6076.000000     54.000000    1.000000    8.000000  "
      ]
     },
     "execution_count": 6,
     "metadata": {},
     "output_type": "execute_result"
    }
   ],
   "source": [
    "print (\"Columns in the df are:\")\n",
    "print (data_explore.columns.tolist(), \"\\n\")\n",
    "\n",
    "dup_num = pd.DataFrame(data_explore).duplicated().sum()\n",
    "print(\"There are {} duplicated values in the data\".format(dup_num))\n",
    "\n",
    "na_num = data_explore.isna().sum().sum()\n",
    "print(f\"There are {na_num} Na values in the data\")\n",
    "\n",
    "data_explore.describe()\n"
   ]
  },
  {
   "cell_type": "markdown",
   "metadata": {},
   "source": [
    "Measuring the correlation between the current numerical variables:"
   ]
  },
  {
   "cell_type": "code",
   "execution_count": 7,
   "metadata": {},
   "outputs": [
    {
     "data": {
      "image/png": "[encoded data removed]",
      "text/plain": [
       "<Figure size 800x480 with 2 Axes>"
      ]
     },
     "metadata": {},
     "output_type": "display_data"
    }
   ],
   "source": [
    "sns.set(rc={'figure.figsize': (10, 6)})\n",
    "sns.heatmap(data_explore.corr(), annot = True, fmt = '.2f', linewidths = 2)\n",
    "plt.title(\"Correlation Heatmap for current numerical variables\")\n",
    "plt.show()"
   ]
  },
  {
   "cell_type": "markdown",
   "metadata": {},
   "source": [
    "We will first drop the episode name and episode number features because they are not relevant to the model."
   ]
  },
  {
   "cell_type": "code",
   "execution_count": null,
   "metadata": {},
   "outputs": [],
   "source": [
    "data_explore = data_explore.drop(\"episode_name\", axis=1)\n",
    "data_explore = data_explore.drop(\"episode\", axis=1)\n",
    "\n",
    "print (data_explore.columns.tolist())"
   ]
  },
  {
   "cell_type": "markdown",
   "metadata": {},
   "source": [
    "Next, we will use the variable \"air_date\" to create two new features: Categorical variable \"calendar_season\", being the season (autumn, winter, spring, summer) when the episode was aired; and (numerical variable?) \"air_month\" being the month the episode aired. After this we drop \"air_date\"."
   ]
  },
  {
   "cell_type": "code",
   "execution_count": null,
   "metadata": {},
   "outputs": [],
   "source": [
    "# data['air_date'] = pd.to_datetime(data['air_date'])\n",
    "\n",
    "# convert the 'dates' column to datetime format\n",
    "data_explore['air_date'] = pd.to_datetime(data_explore['air_date'])\n",
    "\n",
    "# create a new categorical column 'calendar_season' by assigning a category \"winter\", \n",
    "# \"spring\", \"summer\", \"autumn\" depending on the air-month.\n",
    "data_explore['calendar_season'] = pd.cut(\n",
    "    data_explore['air_date'].dt.month, \n",
    "    [0, 3, 6, 9, 12], \n",
    "    labels=['winter', 'spring', 'summer', 'autumn']\n",
    ")\n",
    "\n",
    "# convert calender season to string column rather than categorical column.\n",
    "data_explore['calendar_season'] = data_explore['calendar_season'].astype(str)\n",
    "\n",
    "# Create month column.\n",
    "data_explore['month'] = data_explore['air_date'].dt.month\n",
    "\n",
    "data_explore.head(5)\n"
   ]
  },
  {
   "cell_type": "code",
   "execution_count": null,
   "metadata": {
    "scrolled": true
   },
   "outputs": [],
   "source": [
    "data_explore = data_explore.drop(\"air_date\", axis=1)\n",
    "data_explore.head(5)"
   ]
  },
  {
   "cell_type": "markdown",
   "metadata": {},
   "source": [
    "We now write a one hot encoder function to assign a binary attribute per category for the Categorical variables (\"director, \"writer\", \"calendar_season\" and \"main_chars\"):"
   ]
  },
  {
   "cell_type": "code",
   "execution_count": null,
   "metadata": {},
   "outputs": [],
   "source": [
    "def OneHot_encoder(df, cat_variable):\n",
    "    oneHot_df = df.copy()\n",
    "    variable_initials = ''.join([word[0] for word in cat_variable.split(\"_\")])\n",
    "\n",
    "    \n",
    "    unique_chars = set(';'.join(oneHot_df[cat_variable]).split(';'))\n",
    "\n",
    "    # Create binary attributes for each unique character\n",
    "    for char in unique_chars:\n",
    "        oneHot_df[variable_initials+\"_\"+char] = oneHot_df[cat_variable].apply(lambda x: 1 if char in x else 0)\n",
    "    \n",
    "    \n",
    "    # Drop the original main_chars column\n",
    "    oneHot_df = oneHot_df.drop(columns=[cat_variable])\n",
    "    \n",
    "    return oneHot_df\n",
    "\n",
    "\n",
    "cat_variables = ['director', 'writer', 'main_chars', 'calendar_season']\n",
    "\n",
    "for cat_variable in cat_variables:\n",
    "    data_explore = OneHot_encoder(data_explore, cat_variable)\n",
    "    \n",
    "\n",
    "data_explore.head(5)\n",
    "\n",
    "    "
   ]
  },
  {
   "cell_type": "markdown",
   "metadata": {},
   "source": [
    "By inspection we realised that there are some repeated directors where in some data entries the name of the director is spelled wrong. The specific cases were:\n",
    "\n",
    " - Charles McDougall (correct name) and Charles McDougal\n",
    " - Claire Scanlon (correct name) and Claire Scanlong \n",
    " - Greg Daniels (correct name) and Greg Daneils\n",
    " - Ken Whittingham (correct name) and Ken Wittingham \n",
    " - Paul Lieberstein (correct name) and Paul Lieerstein\n",
    " \n",
    "Thus we now write code to remove columns with the wrong name, where we will put a 1 in the correct name column if the incorrect one had a 1 and the correct one didn't."
   ]
  },
  {
   "cell_type": "code",
   "execution_count": null,
   "metadata": {},
   "outputs": [],
   "source": [
    "correct_names = ['d_Charles McDougall','d_Claire Scanlon','d_Greg Daniels', 'd_Ken Whittingham', 'd_Paul Lieberstein']\n",
    "wrong_names = ['d_Charles McDougal','d_Claire Scanlong','d_Greg Daneils', 'd_Ken Wittingham', 'd_Paul Lieerstein']\n",
    "\n",
    "for i, correct_name in enumerate(correct_names):\n",
    "    data_explore.loc[data_explore[wrong_names[i]] == 1, correct_name] = 1\n",
    "    data_explore = data_explore.drop(wrong_names[i], axis=1)\n",
    "    \n",
    "data_explore.head(5)"
   ]
  },
  {
   "cell_type": "markdown",
   "metadata": {},
   "source": [
    "### Adding some further data to the model\n",
    "In the following cells we add some data to the model from Nasir Khalid's dataset (Khalid, 2021). "
   ]
  },
  {
   "cell_type": "code",
   "execution_count": null,
   "metadata": {},
   "outputs": [],
   "source": [
    "new_data = pd.read_csv(\"The-Office-Lines-V4.csv\").copy()\n",
    "new_data.head()"
   ]
  },
  {
   "cell_type": "markdown",
   "metadata": {},
   "source": [
    "This dataset, as seen above, contains each line in the show, demarcated by speaker and scene. In the cell bellow, we aggregate the lines per character per episode, to give the total lines spoken by each character in each episode. "
   ]
  },
  {
   "cell_type": "code",
   "execution_count": null,
   "metadata": {},
   "outputs": [],
   "source": [
    "#Get a list of unique speakers from the speaker column\n",
    "unique_speakers = new_data.speaker.unique()\n",
    "\n",
    "#Create a dummy column which tracks episode, since season:episode are two columns\n",
    "new_data[\"episode_code\"] = new_data.season.astype(str)+\".\"+new_data.episode.astype(str)\n",
    "\n",
    "#Add a dummy 1 to each line, so that the sum will count totals per character for each line\n",
    "new_data[\"dummy\"] = 1\n",
    "\n",
    "new_data.head()\n",
    "\n",
    "#By episode and speaker, sum the total number of lines\n",
    "lines = new_data.groupby([\"episode_code\",\"speaker\"]).sum()\n",
    "\n",
    "#Need to now take the dummy sums and probably take the max (most-speaker) in an episode and maybe second most\n",
    "#e.g. episode 1.1 has michael 81 lines and pam 40 lines so take 1.1 to have \"most speech\"=\"michael\" and \"second most\"=\"pam\"\n",
    "lines.head(20)"
   ]
  },
  {
   "cell_type": "markdown",
   "metadata": {
    "id": "Ad7J-Yw67Fo3"
   },
   "source": [
    "## 3. Model Fitting and Tuning"
   ]
  },
  {
   "cell_type": "markdown",
   "metadata": {
    "id": "EXdvOaZs7Fo3"
   },
   "source": [
    "*In this section you should detail your choice of model and describe the process used to refine and fit that model.*\n",
    "\n",
    "- You are strongly encouraged to explore many different modeling methods (e.g. linear regression, regression trees, lasso, etc.) but you should not include a detailed narrative of all of these attempts. \n",
    "- At most this section should mention the methods explored and why they were rejected - most of your effort should go into describing the model you are using and your process for tuning and validatin it.\n",
    "\n",
    "*For example if you considered a linear regression model, a classification tree, and a lasso model and ultimately settled on the linear regression approach then you should mention that other two approaches were tried but do not include any of the code or any in depth discussion of these models beyond why they were rejected. This section should then detail is the development of the linear regression model in terms of features used, interactions considered, and any additional tuning and validation which ultimately led to your final model.* \n",
    "\n",
    "**This section should also include the full implementation of your final model, including all necessary validation. As with figures, any included code must also be addressed in the text of the document.**"
   ]
  },
  {
   "cell_type": "markdown",
   "metadata": {
    "id": "edQVULLU7Fo3"
   },
   "source": [
    "## 4. Discussion and Conclusions\n"
   ]
  },
  {
   "cell_type": "markdown",
   "metadata": {
    "id": "Fi0yKPrQ7Fo4"
   },
   "source": [
    "*In this section you should provide a general overview of **your final model**, its **performance**, and **reliability**.* \n",
    "\n",
    "- You should discuss what the implications of your model are in terms of the included features, predictive performance, and anything else you think is relevant.\n",
    "\n",
    "- This should be written with a target audience of a NBC Universal executive who is with the show and university level mathematics but not necessarily someone who has taken a postgraduate statistical modeling course. \n",
    "\n",
    "- Your goal should be to convince this audience that your model is both accurate and useful.\n",
    "\n",
    "- Finally, you should include concrete recommendations on what NBC Universal should do to make their reunion episode a popular as possible.\n",
    "\n",
    "**Keep in mind that a negative result, i.e. a model that does not work well predictively, but that is well explained and justified in terms of why it failed will likely receive higher marks than a model with strong predictive performance but with poor or incorrect explanations / justifications.**"
   ]
  },
  {
   "cell_type": "markdown",
   "metadata": {},
   "source": [
    "## 5. References\n",
    "\n",
    "*In this section, you should present a list of external sources (except the course materials) that you used during the project, if any*\n",
    "\n",
    "Additional data sources can be cited here, in addition to related python documentations, any other webpage sources that you benefited from\n",
    "\n",
    "* Khalid, Nasir. 2021. *The Office (US) - Complete Dialogue/Transcript*, Kaggle. Accessed on 04/03/2023. URL: https://www.kaggle.com/datasets/nehaprabhavalkar/the-office-dataset"
   ]
  }
 ],
 "metadata": {
  "colab": {
   "collapsed_sections": [],
   "name": "project1.ipynb",
   "provenance": []
  },
  "kernelspec": {
   "display_name": "Python 3 (ipykernel)",
   "language": "python",
   "name": "python3"
  },
  "language_info": {
   "codemirror_mode": {
    "name": "ipython",
    "version": 3
   },
   "file_extension": ".py",
   "mimetype": "text/x-python",
   "name": "python",
   "nbconvert_exporter": "python",
   "pygments_lexer": "ipython3",
   "version": "3.9.13"
  }
 },
 "nbformat": 4,
 "nbformat_minor": 1
}
